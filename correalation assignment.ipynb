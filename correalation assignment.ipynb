{
 "cells": [
  {
   "cell_type": "markdown",
   "id": "8a5e3eca-9bd1-44fa-9f0d-b91bb0ca520d",
   "metadata": {},
   "source": [
    "Ans1"
   ]
  },
  {
   "cell_type": "code",
   "execution_count": 1,
   "id": "3e8e0689-5277-4dcd-9f73-33be0e54159a",
   "metadata": {},
   "outputs": [],
   "source": [
    "import pandas as pd"
   ]
  },
  {
   "cell_type": "code",
   "execution_count": 2,
   "id": "9b254a6e-d41f-4e77-ae96-2a5bbda2d863",
   "metadata": {},
   "outputs": [],
   "source": [
    "df=pd.DataFrame({'Time spend':[10,15,7],'Final marks':[95,85,90]})"
   ]
  },
  {
   "cell_type": "code",
   "execution_count": 3,
   "id": "dcdbfeb5-9681-4f80-b463-8172c1b9fc34",
   "metadata": {},
   "outputs": [
    {
     "data": {
      "text/html": [
       "<div>\n",
       "<style scoped>\n",
       "    .dataframe tbody tr th:only-of-type {\n",
       "        vertical-align: middle;\n",
       "    }\n",
       "\n",
       "    .dataframe tbody tr th {\n",
       "        vertical-align: top;\n",
       "    }\n",
       "\n",
       "    .dataframe thead th {\n",
       "        text-align: right;\n",
       "    }\n",
       "</style>\n",
       "<table border=\"1\" class=\"dataframe\">\n",
       "  <thead>\n",
       "    <tr style=\"text-align: right;\">\n",
       "      <th></th>\n",
       "      <th>Time spend</th>\n",
       "      <th>Final marks</th>\n",
       "    </tr>\n",
       "  </thead>\n",
       "  <tbody>\n",
       "    <tr>\n",
       "      <th>0</th>\n",
       "      <td>10</td>\n",
       "      <td>95</td>\n",
       "    </tr>\n",
       "    <tr>\n",
       "      <th>1</th>\n",
       "      <td>15</td>\n",
       "      <td>85</td>\n",
       "    </tr>\n",
       "    <tr>\n",
       "      <th>2</th>\n",
       "      <td>7</td>\n",
       "      <td>90</td>\n",
       "    </tr>\n",
       "  </tbody>\n",
       "</table>\n",
       "</div>"
      ],
      "text/plain": [
       "   Time spend  Final marks\n",
       "0          10           95\n",
       "1          15           85\n",
       "2           7           90"
      ]
     },
     "execution_count": 3,
     "metadata": {},
     "output_type": "execute_result"
    }
   ],
   "source": [
    "df"
   ]
  },
  {
   "cell_type": "code",
   "execution_count": 4,
   "id": "fa0a0414-2c8e-4fef-b2b2-de2d1e4ff0d7",
   "metadata": {},
   "outputs": [
    {
     "data": {
      "text/html": [
       "<div>\n",
       "<style scoped>\n",
       "    .dataframe tbody tr th:only-of-type {\n",
       "        vertical-align: middle;\n",
       "    }\n",
       "\n",
       "    .dataframe tbody tr th {\n",
       "        vertical-align: top;\n",
       "    }\n",
       "\n",
       "    .dataframe thead th {\n",
       "        text-align: right;\n",
       "    }\n",
       "</style>\n",
       "<table border=\"1\" class=\"dataframe\">\n",
       "  <thead>\n",
       "    <tr style=\"text-align: right;\">\n",
       "      <th></th>\n",
       "      <th>Time spend</th>\n",
       "      <th>Final marks</th>\n",
       "    </tr>\n",
       "  </thead>\n",
       "  <tbody>\n",
       "    <tr>\n",
       "      <th>Time spend</th>\n",
       "      <td>1.00000</td>\n",
       "      <td>-0.61859</td>\n",
       "    </tr>\n",
       "    <tr>\n",
       "      <th>Final marks</th>\n",
       "      <td>-0.61859</td>\n",
       "      <td>1.00000</td>\n",
       "    </tr>\n",
       "  </tbody>\n",
       "</table>\n",
       "</div>"
      ],
      "text/plain": [
       "             Time spend  Final marks\n",
       "Time spend      1.00000     -0.61859\n",
       "Final marks    -0.61859      1.00000"
      ]
     },
     "execution_count": 4,
     "metadata": {},
     "output_type": "execute_result"
    }
   ],
   "source": [
    "df.corr()"
   ]
  },
  {
   "cell_type": "markdown",
   "id": "a62001e9-a677-4810-b1fb-7b929f88c041",
   "metadata": {},
   "source": [
    "The above analysis shows that time spend and final marks have negative correlation they are not dependent on each other. "
   ]
  },
  {
   "cell_type": "markdown",
   "id": "3120e68f-e367-419f-86a4-59bd9fc00d70",
   "metadata": {},
   "source": [
    "Ans2"
   ]
  },
  {
   "cell_type": "code",
   "execution_count": 12,
   "id": "8e5d3536-d9d0-4b4b-a056-a847a1d0aeb9",
   "metadata": {},
   "outputs": [],
   "source": [
    "df1=pd.DataFrame({'sleep period':[8,9,6],'job satisfaction':[6,5,4]})"
   ]
  },
  {
   "cell_type": "code",
   "execution_count": 13,
   "id": "e4c5e9db-9ecf-43b0-b10d-9ef207f1d0a9",
   "metadata": {},
   "outputs": [
    {
     "data": {
      "text/html": [
       "<div>\n",
       "<style scoped>\n",
       "    .dataframe tbody tr th:only-of-type {\n",
       "        vertical-align: middle;\n",
       "    }\n",
       "\n",
       "    .dataframe tbody tr th {\n",
       "        vertical-align: top;\n",
       "    }\n",
       "\n",
       "    .dataframe thead th {\n",
       "        text-align: right;\n",
       "    }\n",
       "</style>\n",
       "<table border=\"1\" class=\"dataframe\">\n",
       "  <thead>\n",
       "    <tr style=\"text-align: right;\">\n",
       "      <th></th>\n",
       "      <th>sleep period</th>\n",
       "      <th>job satisfaction</th>\n",
       "    </tr>\n",
       "  </thead>\n",
       "  <tbody>\n",
       "    <tr>\n",
       "      <th>0</th>\n",
       "      <td>8</td>\n",
       "      <td>6</td>\n",
       "    </tr>\n",
       "    <tr>\n",
       "      <th>1</th>\n",
       "      <td>9</td>\n",
       "      <td>5</td>\n",
       "    </tr>\n",
       "    <tr>\n",
       "      <th>2</th>\n",
       "      <td>6</td>\n",
       "      <td>4</td>\n",
       "    </tr>\n",
       "  </tbody>\n",
       "</table>\n",
       "</div>"
      ],
      "text/plain": [
       "   sleep period  job satisfaction\n",
       "0             8                 6\n",
       "1             9                 5\n",
       "2             6                 4"
      ]
     },
     "execution_count": 13,
     "metadata": {},
     "output_type": "execute_result"
    }
   ],
   "source": [
    "df1"
   ]
  },
  {
   "cell_type": "code",
   "execution_count": 14,
   "id": "6f147262-0716-475c-b415-61610ec4617d",
   "metadata": {},
   "outputs": [
    {
     "data": {
      "text/html": [
       "<div>\n",
       "<style scoped>\n",
       "    .dataframe tbody tr th:only-of-type {\n",
       "        vertical-align: middle;\n",
       "    }\n",
       "\n",
       "    .dataframe tbody tr th {\n",
       "        vertical-align: top;\n",
       "    }\n",
       "\n",
       "    .dataframe thead th {\n",
       "        text-align: right;\n",
       "    }\n",
       "</style>\n",
       "<table border=\"1\" class=\"dataframe\">\n",
       "  <thead>\n",
       "    <tr style=\"text-align: right;\">\n",
       "      <th></th>\n",
       "      <th>sleep period</th>\n",
       "      <th>job satisfaction</th>\n",
       "    </tr>\n",
       "  </thead>\n",
       "  <tbody>\n",
       "    <tr>\n",
       "      <th>sleep period</th>\n",
       "      <td>1.0</td>\n",
       "      <td>0.5</td>\n",
       "    </tr>\n",
       "    <tr>\n",
       "      <th>job satisfaction</th>\n",
       "      <td>0.5</td>\n",
       "      <td>1.0</td>\n",
       "    </tr>\n",
       "  </tbody>\n",
       "</table>\n",
       "</div>"
      ],
      "text/plain": [
       "                  sleep period  job satisfaction\n",
       "sleep period               1.0               0.5\n",
       "job satisfaction           0.5               1.0"
      ]
     },
     "execution_count": 14,
     "metadata": {},
     "output_type": "execute_result"
    }
   ],
   "source": [
    "df1.corr(method='spearman')"
   ]
  },
  {
   "cell_type": "markdown",
   "id": "590e4183-eb40-44f8-a305-22d322fc4d6a",
   "metadata": {},
   "source": [
    "The above analysis shows that sleep period and job satisfaction are postively correlated. "
   ]
  },
  {
   "cell_type": "code",
   "execution_count": 16,
   "id": "ea6d5336-5887-4a2f-a4cf-bc4596a0f362",
   "metadata": {},
   "outputs": [],
   "source": [
    "df1=pd.DataFrame({'sleep period':[8,9,6],'job satisfaction':[6,5,4]})"
   ]
  },
  {
   "cell_type": "code",
   "execution_count": 17,
   "id": "2070f535-558c-4244-b718-91f4b5045503",
   "metadata": {},
   "outputs": [
    {
     "data": {
      "text/html": [
       "<div>\n",
       "<style scoped>\n",
       "    .dataframe tbody tr th:only-of-type {\n",
       "        vertical-align: middle;\n",
       "    }\n",
       "\n",
       "    .dataframe tbody tr th {\n",
       "        vertical-align: top;\n",
       "    }\n",
       "\n",
       "    .dataframe thead th {\n",
       "        text-align: right;\n",
       "    }\n",
       "</style>\n",
       "<table border=\"1\" class=\"dataframe\">\n",
       "  <thead>\n",
       "    <tr style=\"text-align: right;\">\n",
       "      <th></th>\n",
       "      <th>excercise per week</th>\n",
       "      <th>body mass index</th>\n",
       "    </tr>\n",
       "  </thead>\n",
       "  <tbody>\n",
       "    <tr>\n",
       "      <th>0</th>\n",
       "      <td>8</td>\n",
       "      <td>18</td>\n",
       "    </tr>\n",
       "    <tr>\n",
       "      <th>1</th>\n",
       "      <td>9</td>\n",
       "      <td>20</td>\n",
       "    </tr>\n",
       "    <tr>\n",
       "      <th>2</th>\n",
       "      <td>7</td>\n",
       "      <td>25</td>\n",
       "    </tr>\n",
       "    <tr>\n",
       "      <th>3</th>\n",
       "      <td>6</td>\n",
       "      <td>17</td>\n",
       "    </tr>\n",
       "    <tr>\n",
       "      <th>4</th>\n",
       "      <td>4</td>\n",
       "      <td>18</td>\n",
       "    </tr>\n",
       "    <tr>\n",
       "      <th>5</th>\n",
       "      <td>5</td>\n",
       "      <td>19</td>\n",
       "    </tr>\n",
       "    <tr>\n",
       "      <th>6</th>\n",
       "      <td>5</td>\n",
       "      <td>20</td>\n",
       "    </tr>\n",
       "    <tr>\n",
       "      <th>7</th>\n",
       "      <td>6</td>\n",
       "      <td>25</td>\n",
       "    </tr>\n",
       "    <tr>\n",
       "      <th>8</th>\n",
       "      <td>7</td>\n",
       "      <td>24</td>\n",
       "    </tr>\n",
       "    <tr>\n",
       "      <th>9</th>\n",
       "      <td>8</td>\n",
       "      <td>21</td>\n",
       "    </tr>\n",
       "  </tbody>\n",
       "</table>\n",
       "</div>"
      ],
      "text/plain": [
       "   excercise per week  body mass index\n",
       "0                   8               18\n",
       "1                   9               20\n",
       "2                   7               25\n",
       "3                   6               17\n",
       "4                   4               18\n",
       "5                   5               19\n",
       "6                   5               20\n",
       "7                   6               25\n",
       "8                   7               24\n",
       "9                   8               21"
      ]
     },
     "execution_count": 17,
     "metadata": {},
     "output_type": "execute_result"
    }
   ],
   "source": [
    "df2"
   ]
  },
  {
   "cell_type": "code",
   "execution_count": 18,
   "id": "85432018-cf3f-4f18-a40f-b95939b00112",
   "metadata": {},
   "outputs": [
    {
     "data": {
      "text/html": [
       "<div>\n",
       "<style scoped>\n",
       "    .dataframe tbody tr th:only-of-type {\n",
       "        vertical-align: middle;\n",
       "    }\n",
       "\n",
       "    .dataframe tbody tr th {\n",
       "        vertical-align: top;\n",
       "    }\n",
       "\n",
       "    .dataframe thead th {\n",
       "        text-align: right;\n",
       "    }\n",
       "</style>\n",
       "<table border=\"1\" class=\"dataframe\">\n",
       "  <thead>\n",
       "    <tr style=\"text-align: right;\">\n",
       "      <th></th>\n",
       "      <th>excercise per week</th>\n",
       "      <th>body mass index</th>\n",
       "    </tr>\n",
       "  </thead>\n",
       "  <tbody>\n",
       "    <tr>\n",
       "      <th>excercise per week</th>\n",
       "      <td>1.000000</td>\n",
       "      <td>0.200222</td>\n",
       "    </tr>\n",
       "    <tr>\n",
       "      <th>body mass index</th>\n",
       "      <td>0.200222</td>\n",
       "      <td>1.000000</td>\n",
       "    </tr>\n",
       "  </tbody>\n",
       "</table>\n",
       "</div>"
      ],
      "text/plain": [
       "                    excercise per week  body mass index\n",
       "excercise per week            1.000000         0.200222\n",
       "body mass index               0.200222         1.000000"
      ]
     },
     "execution_count": 18,
     "metadata": {},
     "output_type": "execute_result"
    }
   ],
   "source": [
    "df2.corr()"
   ]
  },
  {
   "cell_type": "markdown",
   "id": "1906f151-c361-4c0f-984e-5f99094acfa5",
   "metadata": {},
   "source": [
    "The above analysis shows that these have positive correlation but not up to that extent.."
   ]
  },
  {
   "cell_type": "code",
   "execution_count": 24,
   "id": "f497eb1c-2365-4026-9b92-0ae789a13a6d",
   "metadata": {},
   "outputs": [],
   "source": [
    "df3=pd.DataFrame({'television per day':[4,5,6,7,8,9,8,5,6,4,7,7,5,6,8,9,7,8,5,4,4,5,6,5,7,8,5,6,4,8,6,7,8,4,8,6,9,8,7,5,4,2,7,6,8,8,8,5,5,5,6],'pyscial acitivit':[1,2,5,5,6,5,8,9,7,8,5,4,6,7,8,5,2,5,7,6,5,8,8,6,4,3,5,6,9,8,7,9,5,6,7,8,5,4,6,9,8,6,5,4,2,4,7,8,9,5,7]})"
   ]
  },
  {
   "cell_type": "code",
   "execution_count": 26,
   "id": "c9ed116b-8147-473f-8267-261dce27a1de",
   "metadata": {},
   "outputs": [
    {
     "data": {
      "text/html": [
       "<div>\n",
       "<style scoped>\n",
       "    .dataframe tbody tr th:only-of-type {\n",
       "        vertical-align: middle;\n",
       "    }\n",
       "\n",
       "    .dataframe tbody tr th {\n",
       "        vertical-align: top;\n",
       "    }\n",
       "\n",
       "    .dataframe thead th {\n",
       "        text-align: right;\n",
       "    }\n",
       "</style>\n",
       "<table border=\"1\" class=\"dataframe\">\n",
       "  <thead>\n",
       "    <tr style=\"text-align: right;\">\n",
       "      <th></th>\n",
       "      <th>television per day</th>\n",
       "      <th>pyscial acitivit</th>\n",
       "    </tr>\n",
       "  </thead>\n",
       "  <tbody>\n",
       "    <tr>\n",
       "      <th>0</th>\n",
       "      <td>4</td>\n",
       "      <td>1</td>\n",
       "    </tr>\n",
       "    <tr>\n",
       "      <th>1</th>\n",
       "      <td>5</td>\n",
       "      <td>2</td>\n",
       "    </tr>\n",
       "    <tr>\n",
       "      <th>2</th>\n",
       "      <td>6</td>\n",
       "      <td>5</td>\n",
       "    </tr>\n",
       "    <tr>\n",
       "      <th>3</th>\n",
       "      <td>7</td>\n",
       "      <td>5</td>\n",
       "    </tr>\n",
       "    <tr>\n",
       "      <th>4</th>\n",
       "      <td>8</td>\n",
       "      <td>6</td>\n",
       "    </tr>\n",
       "  </tbody>\n",
       "</table>\n",
       "</div>"
      ],
      "text/plain": [
       "   television per day  pyscial acitivit\n",
       "0                   4                 1\n",
       "1                   5                 2\n",
       "2                   6                 5\n",
       "3                   7                 5\n",
       "4                   8                 6"
      ]
     },
     "execution_count": 26,
     "metadata": {},
     "output_type": "execute_result"
    }
   ],
   "source": [
    "df3.head()"
   ]
  },
  {
   "cell_type": "code",
   "execution_count": 27,
   "id": "4cdad221-35f7-4763-a9b0-e79bb71421fa",
   "metadata": {},
   "outputs": [
    {
     "data": {
      "text/html": [
       "<div>\n",
       "<style scoped>\n",
       "    .dataframe tbody tr th:only-of-type {\n",
       "        vertical-align: middle;\n",
       "    }\n",
       "\n",
       "    .dataframe tbody tr th {\n",
       "        vertical-align: top;\n",
       "    }\n",
       "\n",
       "    .dataframe thead th {\n",
       "        text-align: right;\n",
       "    }\n",
       "</style>\n",
       "<table border=\"1\" class=\"dataframe\">\n",
       "  <thead>\n",
       "    <tr style=\"text-align: right;\">\n",
       "      <th></th>\n",
       "      <th>Time spend</th>\n",
       "      <th>Final marks</th>\n",
       "    </tr>\n",
       "  </thead>\n",
       "  <tbody>\n",
       "    <tr>\n",
       "      <th>Time spend</th>\n",
       "      <td>1.00000</td>\n",
       "      <td>-0.61859</td>\n",
       "    </tr>\n",
       "    <tr>\n",
       "      <th>Final marks</th>\n",
       "      <td>-0.61859</td>\n",
       "      <td>1.00000</td>\n",
       "    </tr>\n",
       "  </tbody>\n",
       "</table>\n",
       "</div>"
      ],
      "text/plain": [
       "             Time spend  Final marks\n",
       "Time spend      1.00000     -0.61859\n",
       "Final marks    -0.61859      1.00000"
      ]
     },
     "execution_count": 27,
     "metadata": {},
     "output_type": "execute_result"
    }
   ],
   "source": [
    "df.corr()"
   ]
  },
  {
   "cell_type": "code",
   "execution_count": 30,
   "id": "4f0a1401-20d9-48f2-9bb8-ad840e38876d",
   "metadata": {},
   "outputs": [],
   "source": [
    "df3=pd.DataFrame({'Age(years)':[25,42,37,19,31,28],'Soft drink Preference':['Coke','Pepsi','Mountain dew','Coke','Pepsi','Coke']})"
   ]
  },
  {
   "cell_type": "code",
   "execution_count": 31,
   "id": "0f9f51fb-d031-4e71-8474-f0e14ff7838e",
   "metadata": {},
   "outputs": [
    {
     "data": {
      "text/html": [
       "<div>\n",
       "<style scoped>\n",
       "    .dataframe tbody tr th:only-of-type {\n",
       "        vertical-align: middle;\n",
       "    }\n",
       "\n",
       "    .dataframe tbody tr th {\n",
       "        vertical-align: top;\n",
       "    }\n",
       "\n",
       "    .dataframe thead th {\n",
       "        text-align: right;\n",
       "    }\n",
       "</style>\n",
       "<table border=\"1\" class=\"dataframe\">\n",
       "  <thead>\n",
       "    <tr style=\"text-align: right;\">\n",
       "      <th></th>\n",
       "      <th>Age(years)</th>\n",
       "      <th>Soft drink Preference</th>\n",
       "    </tr>\n",
       "  </thead>\n",
       "  <tbody>\n",
       "    <tr>\n",
       "      <th>0</th>\n",
       "      <td>25</td>\n",
       "      <td>Coke</td>\n",
       "    </tr>\n",
       "    <tr>\n",
       "      <th>1</th>\n",
       "      <td>42</td>\n",
       "      <td>Pepsi</td>\n",
       "    </tr>\n",
       "    <tr>\n",
       "      <th>2</th>\n",
       "      <td>37</td>\n",
       "      <td>Mountain dew</td>\n",
       "    </tr>\n",
       "    <tr>\n",
       "      <th>3</th>\n",
       "      <td>19</td>\n",
       "      <td>Coke</td>\n",
       "    </tr>\n",
       "    <tr>\n",
       "      <th>4</th>\n",
       "      <td>31</td>\n",
       "      <td>Pepsi</td>\n",
       "    </tr>\n",
       "    <tr>\n",
       "      <th>5</th>\n",
       "      <td>28</td>\n",
       "      <td>Coke</td>\n",
       "    </tr>\n",
       "  </tbody>\n",
       "</table>\n",
       "</div>"
      ],
      "text/plain": [
       "   Age(years) Soft drink Preference\n",
       "0          25                  Coke\n",
       "1          42                 Pepsi\n",
       "2          37          Mountain dew\n",
       "3          19                  Coke\n",
       "4          31                 Pepsi\n",
       "5          28                  Coke"
      ]
     },
     "execution_count": 31,
     "metadata": {},
     "output_type": "execute_result"
    }
   ],
   "source": [
    "df3"
   ]
  },
  {
   "cell_type": "code",
   "execution_count": 33,
   "id": "889ff2ce-32f9-4939-bd52-0b6056cbabc6",
   "metadata": {},
   "outputs": [],
   "source": [
    "from sklearn.preprocessing import LabelEncoder"
   ]
  },
  {
   "cell_type": "code",
   "execution_count": 34,
   "id": "4d072889-4d36-4829-b761-eed26dd4d5f7",
   "metadata": {},
   "outputs": [],
   "source": [
    "lable_encoder=LabelEncoder()"
   ]
  },
  {
   "cell_type": "code",
   "execution_count": 36,
   "id": "eb324aff-1cf4-495d-9961-e872b5082748",
   "metadata": {},
   "outputs": [
    {
     "name": "stderr",
     "output_type": "stream",
     "text": [
      "/opt/conda/lib/python3.10/site-packages/sklearn/preprocessing/_label.py:116: DataConversionWarning: A column-vector y was passed when a 1d array was expected. Please change the shape of y to (n_samples, ), for example using ravel().\n",
      "  y = column_or_1d(y, warn=True)\n"
     ]
    },
    {
     "data": {
      "text/plain": [
       "array([0, 2, 1, 0, 2, 0])"
      ]
     },
     "execution_count": 36,
     "metadata": {},
     "output_type": "execute_result"
    }
   ],
   "source": [
    "encoded=lable_encoder.fit_transform(df3[['Soft drink Preference']])"
   ]
  },
  {
   "cell_type": "code",
   "execution_count": 38,
   "id": "75352a04-681b-4a24-9533-9a2810b86127",
   "metadata": {},
   "outputs": [],
   "source": [
    "df4=pd.DataFrame({'Soft drink encoded':[0, 2, 1, 0, 2, 0]})"
   ]
  },
  {
   "cell_type": "code",
   "execution_count": 44,
   "id": "b4f06716-9b36-4a89-911d-c328fdca0c63",
   "metadata": {},
   "outputs": [],
   "source": [
    "df5=pd.concat([df3,df4],axis=1)"
   ]
  },
  {
   "cell_type": "code",
   "execution_count": 46,
   "id": "d0a22d5f-bc28-49c5-bfde-06c2f94e0ec4",
   "metadata": {},
   "outputs": [
    {
     "name": "stderr",
     "output_type": "stream",
     "text": [
      "/tmp/ipykernel_427/2952672672.py:1: FutureWarning: The default value of numeric_only in DataFrame.corr is deprecated. In a future version, it will default to False. Select only valid columns or specify the value of numeric_only to silence this warning.\n",
      "  df5.corr()\n"
     ]
    },
    {
     "data": {
      "text/html": [
       "<div>\n",
       "<style scoped>\n",
       "    .dataframe tbody tr th:only-of-type {\n",
       "        vertical-align: middle;\n",
       "    }\n",
       "\n",
       "    .dataframe tbody tr th {\n",
       "        vertical-align: top;\n",
       "    }\n",
       "\n",
       "    .dataframe thead th {\n",
       "        text-align: right;\n",
       "    }\n",
       "</style>\n",
       "<table border=\"1\" class=\"dataframe\">\n",
       "  <thead>\n",
       "    <tr style=\"text-align: right;\">\n",
       "      <th></th>\n",
       "      <th>Age(years)</th>\n",
       "      <th>Soft drink encoded</th>\n",
       "    </tr>\n",
       "  </thead>\n",
       "  <tbody>\n",
       "    <tr>\n",
       "      <th>Age(years)</th>\n",
       "      <td>1.000000</td>\n",
       "      <td>0.769175</td>\n",
       "    </tr>\n",
       "    <tr>\n",
       "      <th>Soft drink encoded</th>\n",
       "      <td>0.769175</td>\n",
       "      <td>1.000000</td>\n",
       "    </tr>\n",
       "  </tbody>\n",
       "</table>\n",
       "</div>"
      ],
      "text/plain": [
       "                    Age(years)  Soft drink encoded\n",
       "Age(years)            1.000000            0.769175\n",
       "Soft drink encoded    0.769175            1.000000"
      ]
     },
     "execution_count": 46,
     "metadata": {},
     "output_type": "execute_result"
    }
   ],
   "source": [
    "df5.corr()"
   ]
  },
  {
   "cell_type": "code",
   "execution_count": 47,
   "id": "ffffe32e-168c-4ed6-8473-fdf71b4862ef",
   "metadata": {},
   "outputs": [],
   "source": [
    "df6=pd.DataFrame({'calls made per day':[10,12,15,18],'sales made per week':[50,40,25,10]})"
   ]
  },
  {
   "cell_type": "code",
   "execution_count": 48,
   "id": "2c0e04ee-986a-4f25-a76e-44cff9cad228",
   "metadata": {},
   "outputs": [
    {
     "data": {
      "text/html": [
       "<div>\n",
       "<style scoped>\n",
       "    .dataframe tbody tr th:only-of-type {\n",
       "        vertical-align: middle;\n",
       "    }\n",
       "\n",
       "    .dataframe tbody tr th {\n",
       "        vertical-align: top;\n",
       "    }\n",
       "\n",
       "    .dataframe thead th {\n",
       "        text-align: right;\n",
       "    }\n",
       "</style>\n",
       "<table border=\"1\" class=\"dataframe\">\n",
       "  <thead>\n",
       "    <tr style=\"text-align: right;\">\n",
       "      <th></th>\n",
       "      <th>calls made per day</th>\n",
       "      <th>sales made per week</th>\n",
       "    </tr>\n",
       "  </thead>\n",
       "  <tbody>\n",
       "    <tr>\n",
       "      <th>0</th>\n",
       "      <td>10</td>\n",
       "      <td>50</td>\n",
       "    </tr>\n",
       "    <tr>\n",
       "      <th>1</th>\n",
       "      <td>12</td>\n",
       "      <td>40</td>\n",
       "    </tr>\n",
       "    <tr>\n",
       "      <th>2</th>\n",
       "      <td>15</td>\n",
       "      <td>25</td>\n",
       "    </tr>\n",
       "    <tr>\n",
       "      <th>3</th>\n",
       "      <td>18</td>\n",
       "      <td>10</td>\n",
       "    </tr>\n",
       "  </tbody>\n",
       "</table>\n",
       "</div>"
      ],
      "text/plain": [
       "   calls made per day  sales made per week\n",
       "0                  10                   50\n",
       "1                  12                   40\n",
       "2                  15                   25\n",
       "3                  18                   10"
      ]
     },
     "execution_count": 48,
     "metadata": {},
     "output_type": "execute_result"
    }
   ],
   "source": [
    "df6"
   ]
  },
  {
   "cell_type": "code",
   "execution_count": null,
   "id": "8bf340fb-8bc6-41b5-8143-00c01136b191",
   "metadata": {},
   "outputs": [],
   "source": [
    "df6.corr"
   ]
  }
 ],
 "metadata": {
  "kernelspec": {
   "display_name": "Python 3 (ipykernel)",
   "language": "python",
   "name": "python3"
  },
  "language_info": {
   "codemirror_mode": {
    "name": "ipython",
    "version": 3
   },
   "file_extension": ".py",
   "mimetype": "text/x-python",
   "name": "python",
   "nbconvert_exporter": "python",
   "pygments_lexer": "ipython3",
   "version": "3.10.8"
  }
 },
 "nbformat": 4,
 "nbformat_minor": 5
}
