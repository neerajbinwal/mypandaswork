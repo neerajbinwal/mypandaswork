{
 "cells": [
  {
   "cell_type": "markdown",
   "id": "c25adf3d-3654-4e2e-afcb-962ab2668b34",
   "metadata": {},
   "source": [
    "Ans1..Data encoding is representing categorical data into numerical type data so that machine learning model can understand it."
   ]
  },
  {
   "cell_type": "markdown",
   "id": "715af408-928c-4741-a4b7-070dd011642e",
   "metadata": {},
   "source": [
    "Ans2.Nominal encoding is a technique used to convert categorical variables into numerical values that do not have an inherent order or rank.0 It works by creating new variables for each level of a categorical feature, each category mapped with a binary variable containing either 0 or 1."
   ]
  },
  {
   "cell_type": "markdown",
   "id": "a014d334-4e20-4074-89d1-da06a4af0ec7",
   "metadata": {},
   "source": [
    "Ans 3,,, It is preferred when we have less data. "
   ]
  },
  {
   "cell_type": "markdown",
   "id": "68c7e4d2-8443-4194-ba06-72547b6dca7d",
   "metadata": {},
   "source": [
    "Ans4... I will use one hot encoding because it does good with less category of data."
   ]
  },
  {
   "cell_type": "markdown",
   "id": "67b4c8e7-2bac-4b47-90da-79b8e4f208ad",
   "metadata": {},
   "source": [
    "Ans5. 2 new columns will be created."
   ]
  },
  {
   "cell_type": "markdown",
   "id": "9f2a2b43-7a8d-4158-bf76-398d6c130a3b",
   "metadata": {},
   "source": [
    "Ans6. I will use nominal encoding"
   ]
  },
  {
   "cell_type": "code",
   "execution_count": null,
   "id": "e061b5a2-cdf1-494b-8091-0e20f5bf6566",
   "metadata": {},
   "outputs": [],
   "source": [
    "Ans7..I would import the data using pandas than use sklearnprepocessing "
   ]
  }
 ],
 "metadata": {
  "kernelspec": {
   "display_name": "Python 3 (ipykernel)",
   "language": "python",
   "name": "python3"
  },
  "language_info": {
   "codemirror_mode": {
    "name": "ipython",
    "version": 3
   },
   "file_extension": ".py",
   "mimetype": "text/x-python",
   "name": "python",
   "nbconvert_exporter": "python",
   "pygments_lexer": "ipython3",
   "version": "3.10.8"
  }
 },
 "nbformat": 4,
 "nbformat_minor": 5
}
